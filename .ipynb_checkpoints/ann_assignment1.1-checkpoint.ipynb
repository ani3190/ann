{
 "cells": [
  {
   "cell_type": "markdown",
   "metadata": {},
   "source": [
    "# Neural Network Assignment 01"
   ]
  },
  {
   "cell_type": "markdown",
   "metadata": {},
   "source": [
    "1. Anirudha Pal\n",
    "2. Mohammad Wasil\n",
    "3. Wei-Chan Hsu"
   ]
  },
  {
   "cell_type": "code",
   "execution_count": 50,
   "metadata": {
    "collapsed": true
   },
   "outputs": [],
   "source": [
    "import numpy as np\n",
    "import matplotlib.pyplot as plt\n",
    "import draw_nn as plotNN\n",
    "from sympy import *\n",
    "init_printing(use_latex = 'mathjax')\n",
    "from sympy import pprint"
   ]
  },
  {
   "cell_type": "markdown",
   "metadata": {},
   "source": [
    "1.1 An example of the logistic function is defined by\n",
    "\n",
    "$$ \\varphi(v) = \\frac{1}{1+exp(-av)} $$\n",
    "\n",
    "whose limiting values are 0 and 1. Show that the derivative of $\\varphi(v)$ wrt. v is given by\n",
    "\n",
    "$$\\frac{d\\varphi}{dv} = a\\varphi(v)[1 - \\varphi(v)]$$\n",
    "\n",
    "what is the value of this derivative at the origin?\n"
   ]
  },
  {
   "cell_type": "code",
   "execution_count": 35,
   "metadata": {
    "collapsed": false
   },
   "outputs": [
    {
     "name": "stdout",
     "output_type": "stream",
     "text": [
      "     -a⋅v   \n",
      "  a⋅ℯ       \n",
      "────────────\n",
      "           2\n",
      "⎛     -a⋅v⎞ \n",
      "⎝1 + ℯ    ⎠ \n"
     ]
    }
   ],
   "source": [
    "v,a = symbols('v a')\n",
    "phi_v = 1/(1+exp(-a*v))\n",
    "phi_vprime = diff(phi_v,v)\n",
    "pprint(phi_vprime)"
   ]
  },
  {
   "cell_type": "markdown",
   "metadata": {},
   "source": [
    "Value of this derivative at the origin is:"
   ]
  },
  {
   "cell_type": "code",
   "execution_count": 37,
   "metadata": {
    "collapsed": false
   },
   "outputs": [
    {
     "name": "stdout",
     "output_type": "stream",
     "text": [
      "a\n",
      "─\n",
      "4\n"
     ]
    }
   ],
   "source": [
    "pprint(phi_vprime.subs(v,0))"
   ]
  },
  {
   "cell_type": "markdown",
   "metadata": {},
   "source": [
    " "
   ]
  },
  {
   "cell_type": "markdown",
   "metadata": {},
   "source": [
    "1.3 Yet another odd sigmoid function is the algebraic sigmoid:\n",
    "\n",
    "$$ \\varphi(v) = \\frac{v}{\\sqrt{1 + v^{2}}}$$\n",
    "\n",
    "whose limiting values are -1 and +1. Show that the derivative of $\\varphi(v)$ wrt. v is given by\n",
    "\n",
    "$$\\frac{d\\varphi}{dv} = \\frac{\\varphi^{3}(v)}{v^{3}}$$\n",
    "\n",
    "what is the value of this derivative at the origin?"
   ]
  },
  {
   "cell_type": "code",
   "execution_count": 61,
   "metadata": {
    "collapsed": false
   },
   "outputs": [
    {
     "name": "stdout",
     "output_type": "stream",
     "text": [
      "        2                  \n",
      "       v             1     \n",
      "- ─────────── + ───────────\n",
      "          3/2      ________\n",
      "  ⎛ 2    ⎞        ╱  2     \n",
      "  ⎝v  + 1⎠      ╲╱  v  + 1 \n"
     ]
    }
   ],
   "source": [
    "v,a = symbols('v a')\n",
    "phi_v2 = v/sqrt(1+v*v)\n",
    "phi_v2prime = phi_v2.diff(v)\n",
    "pprint(phi_v2prime)"
   ]
  },
  {
   "cell_type": "markdown",
   "metadata": {},
   "source": [
    "Value of this derivative at the origin is:"
   ]
  },
  {
   "cell_type": "code",
   "execution_count": 57,
   "metadata": {
    "collapsed": false
   },
   "outputs": [
    {
     "name": "stdout",
     "output_type": "stream",
     "text": [
      "1\n"
     ]
    }
   ],
   "source": [
    "pprint(phi_v2prime.subs(v,0))"
   ]
  },
  {
   "cell_type": "markdown",
   "metadata": {},
   "source": [
    " "
   ]
  },
  {
   "cell_type": "markdown",
   "metadata": {
    "collapsed": true
   },
   "source": [
    "1.12 A fully connedted feedforward network has 10 source nodes, 2 hidden layers, one with 4 neurons and the other with 3 neurons, and a single output neuron. Construct an architechtural graph of this network."
   ]
  },
  {
   "cell_type": "code",
   "execution_count": 38,
   "metadata": {
    "collapsed": false
   },
   "outputs": [
    {
     "data": {
      "image/png": "[encoded data removed]",
      "text/plain": [
       "<matplotlib.figure.Figure at 0x7f8d9c5bbc90>"
      ]
     },
     "metadata": {},
     "output_type": "display_data"
    }
   ],
   "source": [
    "network = plotNN.DrawNN( [10,4,3,1] )\n",
    "network.draw()"
   ]
  },
  {
   "cell_type": "markdown",
   "metadata": {},
   "source": [
    "1.13 <br>\n",
    "a. Figure P1.13 shows the signal-flow graph of a 2-2-2-1 feedforward network. The function xi denotes a logistic function. Write the input-output mapping defined by this network."
   ]
  },
  {
   "cell_type": "code",
   "execution_count": 39,
   "metadata": {
    "collapsed": true
   },
   "outputs": [],
   "source": [
    "x_1, x_2, a = symbols('x_1,x_2,a')\n",
    "uk_1, uk_2, uk_3, uk_4, uk_5 = symbols('uk_1, uk_2, uk_3, uk_4, uk_5')\n",
    "vk_1, vk_2, vk_3, vk_4, vk_5 = symbols('vk_1, vk_2, vk_3, vk_4, vk_5')\n",
    "yk_1, yk_1, yk_2, yk_3, yk_4, yk_5 = symbols('yk_1, yk_1, yk_2, yk_3, yk_4, yk_5')\n",
    "\n",
    "uk_1 = 5*x_1 + 1*x_2\n",
    "uk_2 = 2*x_1 - 3*x_2\n",
    "\n",
    "vk_1 = uk_1 #Normally + bias\n",
    "vk_2 = uk_2\n",
    "\n",
    "#Calculate the output using logistic function\n",
    "yk_1 = 1/(1 + exp(-a * vk_1))\n",
    "yk_2 = 1/(1 + exp(-a * vk_2))\n",
    "\n",
    "uk_3 = 3*yk_1 + 4*yk_1\n",
    "uk_4 = -1*yk_2 + 6*yk_2\n",
    "\n",
    "vk_3 = uk_3\n",
    "vk_4 = uk_4\n",
    "\n",
    "yk_3 = 1/(1 + exp(-a * vk_3))\n",
    "yk_4 = 1/(1 + exp(-a * vk_4))\n",
    "\n",
    "uk_5 = -2*yk_3 + 1*yk_4\n",
    "\n",
    "vk_5 = uk_5\n",
    "\n",
    "yk_5 = 1/(1 + exp(-a * vk_5))"
   ]
  },
  {
   "cell_type": "code",
   "execution_count": 58,
   "metadata": {
    "collapsed": false
   },
   "outputs": [
    {
     "name": "stdout",
     "output_type": "stream",
     "text": [
      "                                1                                \n",
      "─────────────────────────────────────────────────────────────────\n",
      "        ⎛             2                           1             ⎞\n",
      "     -a⋅⎜- ──────────────────────── + ──────────────────────────⎟\n",
      "        ⎜              -7⋅a                        -5⋅a         ⎟\n",
      "        ⎜       ───────────────────        ─────────────────────⎟\n",
      "        ⎜            -a⋅(5⋅x₁ + x₂)             -a⋅(2⋅x₁ - 3⋅x₂)⎟\n",
      "        ⎜       1 + ℯ                      1 + ℯ                ⎟\n",
      "        ⎝  1 + ℯ                      1 + ℯ                     ⎠\n",
      "1 + ℯ                                                            \n"
     ]
    }
   ],
   "source": [
    "pprint(yk_5)"
   ]
  },
  {
   "cell_type": "markdown",
   "metadata": {},
   "source": [
    "b. Suppose that the output neuron in the signal-flow graph of Fig. P1.13 operates in its linear region. Write the input-output mapping defined by this network."
   ]
  },
  {
   "cell_type": "code",
   "execution_count": 53,
   "metadata": {
    "collapsed": false
   },
   "outputs": [],
   "source": [
    "x_1, x_2, a = symbols('x_1,x_2,a')\n",
    "uk_1, uk_2 = symbols('uk_1, uk_2')\n",
    "vk_1, vk_2, vk_3, vk_4 = symbols('vk_1, vk_2, vk_3, vk_4')\n",
    "yk = symbols('yk')\n",
    "\n",
    "uk_1 = 5*x_1 + 1*x_2\n",
    "uk_2 = 2*x_1 - 3*x_2\n",
    "\n",
    "vk_1 = uk_1 \n",
    "vk_2 = uk_2\n",
    "\n",
    "vk_3 = 3*uk_1 + -1*uk_2\n",
    "\n",
    "vk_4 = 4*uk_1 + 6*uk_2\n",
    "\n",
    "yk = -2*vk_3 + 1*vk_4"
   ]
  },
  {
   "cell_type": "markdown",
   "metadata": {
    "collapsed": true
   },
   "source": [
    "The output of this network is"
   ]
  },
  {
   "cell_type": "code",
   "execution_count": 54,
   "metadata": {
    "collapsed": false
   },
   "outputs": [
    {
     "data": {
      "image/png": "[encoded data removed]",
      "text/latex": [
       "$$6 x_{1} - 26 x_{2}$$"
      ],
      "text/plain": [
       "6⋅x₁ - 26⋅x₂"
      ]
     },
     "execution_count": 54,
     "metadata": {},
     "output_type": "execute_result"
    }
   ],
   "source": [
    "yk"
   ]
  },
  {
   "cell_type": "markdown",
   "metadata": {},
   "source": [
    " \n",
    " "
   ]
  },
  {
   "cell_type": "markdown",
   "metadata": {},
   "source": [
    "1.21 <br>\n",
    "Let $x$ be an input vector, and $s(\\alpha,x)$ be a transformation operator acting on x and depending on some parameter alpha. The operator $s(\\alpha, x)$ satisfies two requirements:\n",
    "<br>\n",
    "* $ s(0,x) = x $\n",
    "<br>\n",
    "* $s(\\alpha, x)$ is differentiable wrt. alpha.\n",
    "<br>\n",
    "\n",
    "The tangent vector is defined by the partial derivatives $\\partial s(\\alpha,x)/\\partial a$ (Simard et al., 1992).\n",
    "<br>\n",
    "Suppose that x represents an image, and alpha is a rotation parameter. How would you compute the tanget vector for the case when alpha  is small? The tangent vector is locally invariant wrt. rotation of the original image; why?"
   ]
  },
  {
   "cell_type": "markdown",
   "metadata": {},
   "source": [
    "We can apply taylor series for very small values of $\\alpha$ to get $s(\\alpha,\\mathbf{x})$\n",
    "\n",
    "$$ s(\\alpha,\\mathbf{x}) = s(0,\\mathbf{x}) + \\alpha \\frac{\\partial s (\\alpha,\\mathbf{x})}{\\partial \\alpha} $$\n",
    "\n",
    "Where $s(\\alpha, \\mathbf{x})$ is tramsformation parameter acting on $\\mathbf{x}$ depending on some parameter $\\alpha$.\n",
    "<br>\n",
    "Since tangent vector $v$ is defined by partial derivative $\\partial s (\\alpha,\\mathbf{x})/\\partial \\mathbf{x}$. We can write\n",
    "\n",
    "$$ s(\\alpha,\\mathbf{x}) = s(0,\\mathbf{x}) + \\alpha v$$\n",
    "\n",
    "Therefore\n",
    "\\begin{align}\n",
    "    v &= \\frac{s(\\alpha,\\mathbf{x}) - s(0,\\mathbf{x})}{\\alpha} \\\\\n",
    "     &\\approx \\frac{s(0,\\mathbf{x}) - s(0,\\mathbf{x})}{\\alpha} = 0 \n",
    "\\end{align}\n",
    "\n",
    "The tangent vector is locally invariant with respect to rotation of the image of the original image $\\mathbf{x}$, because the tangent vector becomes $0$ for small $\\alpha$ and is independent of $\\mathbf{x}$."
   ]
  },
  {
   "cell_type": "code",
   "execution_count": null,
   "metadata": {
    "collapsed": true
   },
   "outputs": [],
   "source": []
  }
 ],
 "metadata": {
  "kernelspec": {
   "display_name": "Python 2",
   "language": "python",
   "name": "python2"
  },
  "language_info": {
   "codemirror_mode": {
    "name": "ipython",
    "version": 2
   },
   "file_extension": ".py",
   "mimetype": "text/x-python",
   "name": "python",
   "nbconvert_exporter": "python",
   "pygments_lexer": "ipython2",
   "version": "2.7.13"
  }
 },
 "nbformat": 4,
 "nbformat_minor": 2
}
